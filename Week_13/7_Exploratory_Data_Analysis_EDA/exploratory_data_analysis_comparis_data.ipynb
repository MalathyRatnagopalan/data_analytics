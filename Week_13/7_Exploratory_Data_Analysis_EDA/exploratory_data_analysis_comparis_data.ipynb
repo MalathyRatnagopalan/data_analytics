{
 "cells": [
  {
   "cell_type": "markdown",
   "metadata": {},
   "source": [
    "# Exploatory data analysis (EDA) of comparis data"
   ]
  },
  {
   "cell_type": "code",
   "execution_count": 1,
   "metadata": {},
   "outputs": [],
   "source": [
    "# Libraries\n",
    "import pandas as pd\n",
    "import numpy as np\n",
    "import seaborn as sns\n",
    "import matplotlib.pyplot as plt\n",
    "import statsmodels.api as sm\n",
    "import pylab as py\n",
    "\n",
    "# seaborn graphics settings\n",
    "sns.set(color_codes=True)\n",
    "\n",
    "# Ignore warning\n",
    "import warnings\n",
    "warnings.filterwarnings(\"ignore\")"
   ]
  },
  {
   "cell_type": "markdown",
   "metadata": {},
   "source": [
    "## Univariate non-graphical exploratory data analysis (EDA)"
   ]
  },
  {
   "cell_type": "markdown",
   "metadata": {},
   "source": [
    "### Importing the enriched comparis data"
   ]
  },
  {
   "cell_type": "code",
   "execution_count": 3,
   "metadata": {},
   "outputs": [],
   "source": [
    "# Read and select variables\n",
    "df_orig = pd.read_csv(\"comparis_prepared_data3.csv\")[['web-scraper-order',\n",
    "                                                'brand',\n",
    "                                                'name_details_raw',\n",
    "                                                'ps', \n",
    "                                                'km', \n",
    "                                                'reg_year', \n",
    "                                                'price', \n",
    "                                                'gear_type',\n",
    "                                                'ps_cat',\n",
    "                                                'fuel_type_benzin',\n",
    "                                                'fuel_type_diesel',\n",
    "                                                'fuel_type_elektro',\n",
    "                                                'lat',\n",
    "                                                'lon',\n",
    "                                                'address']]\n",
    "\n",
    "# Remove duplicates\n",
    "df_orig = df_orig.drop_duplicates()\n",
    "df_orig.head(5)\n",
    "\n",
    "# Remove missing values\n",
    "df_orig = df_orig.dropna()\n",
    "df_orig.head(5)\n",
    "\n",
    "# Calculate age from car\n",
    "df_orig['age_of_the_car'] = 2024 - df_orig['reg_year']\n",
    "\n",
    "\n",
    "# correct representation of the age of several years\n",
    "df_orig.loc[df_orig[\"age_of_the_car\"] == 2020, \"age_of_the_car\"] = 22\n",
    "df_orig.loc[df_orig[\"age_of_the_car\"] == 1825, \"age_of_the_car\"] = 52\n",
    "df_orig.loc[df_orig[\"age_of_the_car\"] == 1824, \"age_of_the_car\"] = 42\n",
    "df_orig.loc[df_orig[\"age_of_the_car\"] == 1823, \"age_of_the_car\"] = 32\n",
    "df_orig.loc[df_orig[\"age_of_the_car\"] == 1821, \"age_of_the_car\"] = 12\n",
    "df_orig.loc[df_orig[\"age_of_the_car\"] == 1820, \"age_of_the_car\"] = 2\n"
   ]
  },
  {
   "cell_type": "markdown",
   "metadata": {},
   "source": [
    "### Filter cars"
   ]
  },
  {
   "cell_type": "code",
   "execution_count": 8,
   "metadata": {},
   "outputs": [],
   "source": [
    "df = df_orig.loc[df_orig['km'] >= 10000]"
   ]
  },
  {
   "cell_type": "markdown",
   "metadata": {},
   "source": [
    "### Shape (number of rows and colums)"
   ]
  },
  {
   "cell_type": "code",
   "execution_count": 9,
   "metadata": {},
   "outputs": [
    {
     "name": "stdout",
     "output_type": "stream",
     "text": [
      "(355, 16)\n"
     ]
    }
   ],
   "source": [
    "# Number of rows and columns\n",
    "print(df.shape)"
   ]
  },
  {
   "cell_type": "markdown",
   "metadata": {},
   "source": [
    "### Data types"
   ]
  },
  {
   "cell_type": "code",
   "execution_count": 10,
   "metadata": {},
   "outputs": [
    {
     "data": {
      "text/plain": [
       "web-scraper-order     object\n",
       "brand                 object\n",
       "name_details_raw      object\n",
       "ps                   float64\n",
       "km                   float64\n",
       "reg_year             float64\n",
       "price                  int64\n",
       "gear_type             object\n",
       "ps_cat                object\n",
       "fuel_type_benzin       int64\n",
       "fuel_type_diesel       int64\n",
       "fuel_type_elektro      int64\n",
       "lat                  float64\n",
       "lon                  float64\n",
       "address               object\n",
       "age_of_the_car       float64\n",
       "dtype: object"
      ]
     },
     "execution_count": 10,
     "metadata": {},
     "output_type": "execute_result"
    }
   ],
   "source": [
    "df.dtypes"
   ]
  },
  {
   "cell_type": "markdown",
   "metadata": {},
   "source": [
    "### Summary statistics of numeric variables"
   ]
  },
  {
   "cell_type": "code",
   "execution_count": 11,
   "metadata": {},
   "outputs": [
    {
     "data": {
      "text/html": [
       "<div>\n",
       "<style scoped>\n",
       "    .dataframe tbody tr th:only-of-type {\n",
       "        vertical-align: middle;\n",
       "    }\n",
       "\n",
       "    .dataframe tbody tr th {\n",
       "        vertical-align: top;\n",
       "    }\n",
       "\n",
       "    .dataframe thead th {\n",
       "        text-align: right;\n",
       "    }\n",
       "</style>\n",
       "<table border=\"1\" class=\"dataframe\">\n",
       "  <thead>\n",
       "    <tr style=\"text-align: right;\">\n",
       "      <th></th>\n",
       "      <th>ps</th>\n",
       "      <th>km</th>\n",
       "      <th>reg_year</th>\n",
       "      <th>price</th>\n",
       "      <th>fuel_type_benzin</th>\n",
       "      <th>fuel_type_diesel</th>\n",
       "      <th>fuel_type_elektro</th>\n",
       "      <th>lat</th>\n",
       "      <th>lon</th>\n",
       "      <th>age_of_the_car</th>\n",
       "    </tr>\n",
       "  </thead>\n",
       "  <tbody>\n",
       "    <tr>\n",
       "      <th>count</th>\n",
       "      <td>355.000000</td>\n",
       "      <td>355.000000</td>\n",
       "      <td>355.000000</td>\n",
       "      <td>355.000000</td>\n",
       "      <td>355.000000</td>\n",
       "      <td>355.000000</td>\n",
       "      <td>355.000000</td>\n",
       "      <td>355.000000</td>\n",
       "      <td>355.000000</td>\n",
       "      <td>355.000000</td>\n",
       "    </tr>\n",
       "    <tr>\n",
       "      <th>mean</th>\n",
       "      <td>187.670423</td>\n",
       "      <td>111527.098592</td>\n",
       "      <td>2014.112676</td>\n",
       "      <td>21958.321127</td>\n",
       "      <td>0.656338</td>\n",
       "      <td>0.315493</td>\n",
       "      <td>0.028169</td>\n",
       "      <td>47.124129</td>\n",
       "      <td>8.100918</td>\n",
       "      <td>9.887324</td>\n",
       "    </tr>\n",
       "    <tr>\n",
       "      <th>std</th>\n",
       "      <td>107.207076</td>\n",
       "      <td>75213.831006</td>\n",
       "      <td>6.313266</td>\n",
       "      <td>21351.812888</td>\n",
       "      <td>0.475600</td>\n",
       "      <td>0.465368</td>\n",
       "      <td>0.165689</td>\n",
       "      <td>0.419771</td>\n",
       "      <td>0.844629</td>\n",
       "      <td>6.313266</td>\n",
       "    </tr>\n",
       "    <tr>\n",
       "      <th>min</th>\n",
       "      <td>54.000000</td>\n",
       "      <td>10000.000000</td>\n",
       "      <td>1987.000000</td>\n",
       "      <td>499.000000</td>\n",
       "      <td>0.000000</td>\n",
       "      <td>0.000000</td>\n",
       "      <td>0.000000</td>\n",
       "      <td>45.857773</td>\n",
       "      <td>6.070308</td>\n",
       "      <td>1.000000</td>\n",
       "    </tr>\n",
       "    <tr>\n",
       "      <th>25%</th>\n",
       "      <td>120.000000</td>\n",
       "      <td>53483.000000</td>\n",
       "      <td>2011.000000</td>\n",
       "      <td>6995.000000</td>\n",
       "      <td>0.000000</td>\n",
       "      <td>0.000000</td>\n",
       "      <td>0.000000</td>\n",
       "      <td>46.916365</td>\n",
       "      <td>7.585464</td>\n",
       "      <td>5.500000</td>\n",
       "    </tr>\n",
       "    <tr>\n",
       "      <th>50%</th>\n",
       "      <td>150.000000</td>\n",
       "      <td>95000.000000</td>\n",
       "      <td>2016.000000</td>\n",
       "      <td>15800.000000</td>\n",
       "      <td>1.000000</td>\n",
       "      <td>0.000000</td>\n",
       "      <td>0.000000</td>\n",
       "      <td>47.246483</td>\n",
       "      <td>8.256602</td>\n",
       "      <td>8.000000</td>\n",
       "    </tr>\n",
       "    <tr>\n",
       "      <th>75%</th>\n",
       "      <td>216.500000</td>\n",
       "      <td>160000.000000</td>\n",
       "      <td>2018.500000</td>\n",
       "      <td>28940.000000</td>\n",
       "      <td>1.000000</td>\n",
       "      <td>1.000000</td>\n",
       "      <td>0.000000</td>\n",
       "      <td>47.416695</td>\n",
       "      <td>8.665546</td>\n",
       "      <td>13.000000</td>\n",
       "    </tr>\n",
       "    <tr>\n",
       "      <th>max</th>\n",
       "      <td>635.000000</td>\n",
       "      <td>418000.000000</td>\n",
       "      <td>2023.000000</td>\n",
       "      <td>136900.000000</td>\n",
       "      <td>1.000000</td>\n",
       "      <td>1.000000</td>\n",
       "      <td>1.000000</td>\n",
       "      <td>47.714527</td>\n",
       "      <td>9.873875</td>\n",
       "      <td>37.000000</td>\n",
       "    </tr>\n",
       "  </tbody>\n",
       "</table>\n",
       "</div>"
      ],
      "text/plain": [
       "               ps             km     reg_year          price  \\\n",
       "count  355.000000     355.000000   355.000000     355.000000   \n",
       "mean   187.670423  111527.098592  2014.112676   21958.321127   \n",
       "std    107.207076   75213.831006     6.313266   21351.812888   \n",
       "min     54.000000   10000.000000  1987.000000     499.000000   \n",
       "25%    120.000000   53483.000000  2011.000000    6995.000000   \n",
       "50%    150.000000   95000.000000  2016.000000   15800.000000   \n",
       "75%    216.500000  160000.000000  2018.500000   28940.000000   \n",
       "max    635.000000  418000.000000  2023.000000  136900.000000   \n",
       "\n",
       "       fuel_type_benzin  fuel_type_diesel  fuel_type_elektro         lat  \\\n",
       "count        355.000000        355.000000         355.000000  355.000000   \n",
       "mean           0.656338          0.315493           0.028169   47.124129   \n",
       "std            0.475600          0.465368           0.165689    0.419771   \n",
       "min            0.000000          0.000000           0.000000   45.857773   \n",
       "25%            0.000000          0.000000           0.000000   46.916365   \n",
       "50%            1.000000          0.000000           0.000000   47.246483   \n",
       "75%            1.000000          1.000000           0.000000   47.416695   \n",
       "max            1.000000          1.000000           1.000000   47.714527   \n",
       "\n",
       "              lon  age_of_the_car  \n",
       "count  355.000000      355.000000  \n",
       "mean     8.100918        9.887324  \n",
       "std      0.844629        6.313266  \n",
       "min      6.070308        1.000000  \n",
       "25%      7.585464        5.500000  \n",
       "50%      8.256602        8.000000  \n",
       "75%      8.665546       13.000000  \n",
       "max      9.873875       37.000000  "
      ]
     },
     "execution_count": 11,
     "metadata": {},
     "output_type": "execute_result"
    }
   ],
   "source": [
    "df.describe()"
   ]
  },
  {
   "cell_type": "markdown",
   "metadata": {},
   "source": [
    "### Statistical measures (min, max, std, mean, median, count) for selected variables"
   ]
  },
  {
   "cell_type": "code",
   "execution_count": 12,
   "metadata": {},
   "outputs": [
    {
     "name": "stdout",
     "output_type": "stream",
     "text": [
      "Price: Count: 355 Min: 499 Max: 136900 Mean: 21958.3 Median: 15800.0 Std: 21351.8\n",
      "Ps: Count: 355 Min: 54.0 Max: 635.0 Mean: 187.7 Median: 150.0 Std: 107.2\n"
     ]
    }
   ],
   "source": [
    "# Price\n",
    "print('Price:',\n",
    "      'Count:', round(df.price.count(), 1),\n",
    "      'Min:', round(df.price.min(), 1),\n",
    "      'Max:', round(df.price.max(), 1),\n",
    "      'Mean:', round(df.price.mean(), 1),\n",
    "      'Median:', round(df.price.median(), 1),\n",
    "      'Std:', round(df.price.std(), 1))\n",
    "\n",
    "# ps\n",
    "print('Ps:',\n",
    "      'Count:', round(df.ps.count(), 1),\n",
    "      'Min:', round(df.ps.min(), 1),\n",
    "      'Max:', round(df.ps.max(), 1),\n",
    "      'Mean:', round(df.ps.mean(), 1),\n",
    "      'Median:', round(df.ps.median(), 1),\n",
    "      'Std:', round(df.ps.std(), 1))"
   ]
  }
 ],
 "metadata": {
  "kernelspec": {
   "display_name": "Python 3",
   "language": "python",
   "name": "python3"
  },
  "language_info": {
   "codemirror_mode": {
    "name": "ipython",
    "version": 3
   },
   "file_extension": ".py",
   "mimetype": "text/x-python",
   "name": "python",
   "nbconvert_exporter": "python",
   "pygments_lexer": "ipython3",
   "version": "3.10.13"
  }
 },
 "nbformat": 4,
 "nbformat_minor": 2
}
